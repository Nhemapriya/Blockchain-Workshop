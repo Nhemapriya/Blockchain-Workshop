{
  "nbformat": 4,
  "nbformat_minor": 0,
  "metadata": {
    "colab": {
      "name": "Blockchain_Journal_Review.ipynb",
      "provenance": [],
      "collapsed_sections": []
    },
    "kernelspec": {
      "name": "python3",
      "display_name": "Python 3"
    },
    "language_info": {
      "name": "python"
    }
  },
  "cells": [
    {
      "cell_type": "markdown",
      "metadata": {
        "id": "1tnBr1rNNcCD"
      },
      "source": [
        "# Journal review and rating system\n",
        "\n",
        "**1. The project aims to create a decentralized peer-to-peer journal papers review system where researchers/scholars/students can be a part of the network**\n",
        "\n",
        "**2. Upon every citation of a paper, a reward/rating will be provided so as to curate the best suggestions for references**\n",
        "\n",
        "**3. Only authentic and domain-related papers can be accepted in the network**"
      ]
    },
    {
      "cell_type": "code",
      "metadata": {
        "id": "VBgkdXr8OyjT"
      },
      "source": [
        "GenesisBlock = {\n",
        "    \"journalId\" : \"Tech241\",\n",
        "    \"journalName\" : \"Elseiver\",\n",
        "    \"journalDomain\" : \"Nanotech\",\n",
        "    \"journalTitle\" : \"Brain image segmentation\",\n",
        "    \"journalScope\" : \"Science and technology\",\n",
        "    \"publishedBy\" : \"Academy of honours\",\n",
        "    \"publicationFrequency\" : \"Bi-annual\",\n",
        "    \"publicationStatus\" : \"Available\",\n",
        "    \"publicationProceedings\" : \"AnnexureOne\",\n",
        "\n",
        "    \"paperDetails\" :{\n",
        "            \"paperId\" : \"PAP01\",\n",
        "            \"minimumPageCount\" : \"8\",\n",
        "            \"maximumPageCount\" : \"15\",\n",
        "            \"pageLayout\": \"sided\",\n",
        "            \"pageMargins\" : \"2.5\",\n",
        "            \"fontSize\": \"12\",\n",
        "            \"fontStyle\" : \"TimesNewRoman\",\n",
        "            \"abstractSummary\" : \" \",\n",
        "            \"submittedOn\" : \"25-09-2021\",\n",
        "            \"paperStatus\" : \"review\",\n",
        "            \"editorialStandard\" : \"high\",\n",
        "            \"acceptanceRate\" : \"80%\",\n",
        "            \"paperCostOfSubmission\" : \"5000\",\n",
        "            \"paperUnderConference\" : [{\n",
        "                \"yes\" : [{\n",
        "                    \"conferenceName\": \" \",\n",
        "                    \"conferenceId\" : \"01\",\n",
        "                    \"conferenceLocation\": \"chennai\",\n",
        "                    \"conferencePublications\": \"abc, xyz, pqr\"\n",
        "                }]\n",
        "            }, \n",
        "            {\n",
        "               \"No\" :  [{\n",
        "                   \"externaJournalName\" : \"\",\n",
        "                   \"externalJournalId\": \"231\",\n",
        "                  \"externalJournalSource\" : \"\", \n",
        "               }]\n",
        "            }]\n",
        "    },\n",
        "    \"authorDetails\" :{\n",
        "        \"authorId\" : \"AUTH01\",\n",
        "        \"authorName\": \"hema\",\n",
        "        \"authorDesignation\" : \"Professor\",\n",
        "        \"authorInstitutionalEmail\": \"hema@stjosephs.in\",\n",
        "        \"authorPersonalEmail\" : \"hemuhema2000@gmail.com\",\n",
        "        \"authorInstitution\" : \"St joseph's college of engineering\",\n",
        "        \"authorQualification\" : \"PhD in science\",\n",
        "        \"isbnNumber\" : \"23415\",\n",
        "        \"orchidId\" : \"Hema151220\",\n",
        "        \"numberOfPublications\" : \"12\",\n",
        "        \"majorPublications\" : [\"ABC\", \"XYZ\", \"PQR\"],\n",
        "\n",
        "    }\n",
        "\n",
        "}"
      ],
      "execution_count": 8,
      "outputs": []
    },
    {
      "cell_type": "markdown",
      "metadata": {
        "id": "lhBYxldCQ4_G"
      },
      "source": [
        "Creation of genesis block"
      ]
    },
    {
      "cell_type": "code",
      "metadata": {
        "id": "aHpdQCYmOZPT"
      },
      "source": [
        "journalGenesisBlock = {\n",
        "    \"journalId\" : \"Tech241\",\n",
        "    \"journalName\" : \"Elseiver\",\n",
        "    \"journalDomain\" : \"Nanotech\",\n",
        "    \"journalTitle\" : \"Brain image segmentation\",\n",
        "    \"journalScope\" : \"Science and technology\",\n",
        "    \"publishedBy\" : \"Academy of honours\",\n",
        "    \"publicationFrequency\" : \"Bi-annual\",\n",
        "    \"publicationStatus\" : \"Available\",\n",
        "    \"publicationProceedings\" : \"AnnexureOne\",\n",
        "\n",
        "    \"paperDetails\" :{\n",
        "            \"paperId\" : \"PAP01\",\n",
        "            \"minimumPageCount\" : \"8\",\n",
        "            \"maximumPageCount\" : \"15\",\n",
        "            \"pageLayout\": \"sided\",\n",
        "            \"pageMargins\" : \"2.5\",\n",
        "            \"fontSize\": \"12\",\n",
        "            \"fontStyle\" : \"TimesNewRoman\",\n",
        "            \"abstractSummary\" : \" \",\n",
        "            \"submittedOn\" : \"25-09-2021\",\n",
        "            \"paperStatus\" : \"review\",\n",
        "            \"editorialStandard\" : \"high\",\n",
        "            \"acceptanceRate\" : \"80%\",\n",
        "            \"paperCostOfSubmission\" : \"5000\",\n",
        "            \"paperUnderConference\" : \"yes\"\n",
        "    },\n",
        "    \"authorDetails\" :{\n",
        "        \"authorId\" : \"AUTH01\",\n",
        "        \"authorName\": \"hema\",\n",
        "        \"authorDesignation\" : \"Professor\",\n",
        "        \"authorInstitutionalEmail\": \"hema@stjosephs.in\",\n",
        "        \"authorPersonalEmail\" : \"hemuhema2000@gmail.com\",\n",
        "        \"authorInstitution\" : \"St joseph's college of engineering\",\n",
        "        \"authorQualification\" : \"PhD in science\",\n",
        "        \"isbnNumber\" : \"23415\",\n",
        "        \"orchidId\" : \"Hema151220\",\n",
        "        \"numberOfPublications\" : \"12\",\n",
        "        \"majorPublications\" : [\"ABC\", \"XYZ\", \"PQR\"],\n",
        "\n",
        "    }\n",
        "\n",
        "}"
      ],
      "execution_count": 9,
      "outputs": []
    },
    {
      "cell_type": "markdown",
      "metadata": {
        "id": "Rqe8buzyP_Ok"
      },
      "source": [
        "Obtain user input for every field"
      ]
    },
    {
      "cell_type": "code",
      "metadata": {
        "id": "UtKBxDcJP-5A"
      },
      "source": [
        "journalFileDirectory = []\n",
        "def getInput():\n",
        "  journalBlock = {}\n",
        "  print(\"**********Enter the details of your journal********\")\n",
        "  journalBlock[\"journalId\"] = input(\"Enter the Journal Id : \")\n",
        "  journalBlock[\"journalName\"] = input(\"Enter the name of journal : \")\n",
        "  journalBlock[\"journalDomain\"] = input(\"Enter the domain of journal : \")\n",
        "  journalBlock[\"journalTitle\"] = input(\"Enter the Title of journal : \")\n",
        "  journalBlock[\"journalScope\"] = input(\"Enter the scope of journal : \")\n",
        "  journalBlock[\"publishedBy\"] = input(\"Enter the publisher : \")\n",
        "  journalBlock[\"publicationFrequency\"] = input(\"Enter the frequency of publication : \")\n",
        "  journalBlock[\"publicationProceedings\"] = input(\"Enter the proceedings list\")\n",
        "  journalBlock[\"publicationStatus\"] = input(\"Enter the status of publication\")\n",
        "  #get details of author\n",
        "  print(\"**** Enter the details of author ****\")\n",
        "  authorDetails = {}\n",
        "  authorDetails[\"authorId\"] = input(\"Enter the ID of Author : \")\n",
        "  authorDetails[\"authorName\"] = input(\"Enter the name of the author : \")\n",
        "  authorDetails[\"authorDesignation\"] = input(\"Enter the designation : \")\n",
        "  authorDetails[\"authorInstitutionalEmail\"] = input(\"Institutional Email : \")\n",
        "  authorDetails[\"authorPersonalEmail\"] = input(\"Personal email id  : \")\n",
        "  authorDetails[\"authorInstitution\"] = input(\"Enter the instituition of author : \")\n",
        "  authorDetails[\"authorQualification\"] = input(\"Enter the qualification : \")\n",
        "  authorDetails[\"isbnNumber\"] = input(\"Enter the ISBN Number : \")\n",
        "  authorDetails[\"orchidId\"] = input(\"Enter the Orchid ID : \")\n",
        "  authorDetails[\"numberOfPublications\"] = input(\"Total number of publications : \")\n",
        "  num = int(input(\"Enter the number of major publications : \"))\n",
        "  publications = []\n",
        "  print(\"Enter the name of publications : \")\n",
        "  for x in range(num):\n",
        "    publications.append(input())\n",
        "  authorDetails[\"majorPublications\"] = publications\n",
        "  journalBlock[\"authorDetails\"] = authorDetails\n",
        "\n",
        "  #get details related to paper\n",
        "  paperDetails = {}\n",
        "  print(\"Enter the Details of paper : \")\n",
        "  paperDetails[\"paperId\"] = input(\"Enter the ID of the paper : \")\n",
        "  paperDetails[\"minimumPageCount\"] = input(\"Enter the minimum page count : \")\n",
        "  paperDetails[\"maximumPageCount\"] = input(\"Enter the maximum page count : \")\n",
        "  paperDetails[\"pageLayout\"] = input(\"Layout of the page : \")\n",
        "  paperDetails[\"pageMargins\"] = input(\"Enter the margins for the paper : \")\n",
        "  paperDetails[\"fontSize\"] = input(\"Enter the size of the font : \")\n",
        "  paperDetails[\"fontStyle\"] = input(\"Enter the font style : \")\n",
        "  paperDetails[\"abstractSummary\"] = input(\"Enter the summary of abstract : \")\n",
        "  paperDetails[\"submittedOn\"] = input(\"Enter the date of submission  : \")\n",
        "  paperDetails[\"paperStatus\"] = input(\"Enter the status of paper : \")\n",
        "  paperDetails[\"editorialStandard\"] = input(\"Enter the standard of editorial board : \")\n",
        "  paperDetails[\"acceptanceRate\"] = input(\"Enter the rate of acceptance : \")\n",
        "  paperDetails[\"paperCostOfSubmission\"] = input(\"Enter the cost : \")\n",
        "  paperDetails[\"paperUnderConference\"] = input(\"Is the paper under conference\")\n",
        "  journalBlock[\"paperDetails\"] = paperDetails\n",
        "  journalFileDirectory.append(journalBlock)"
      ],
      "execution_count": 21,
      "outputs": []
    },
    {
      "cell_type": "code",
      "metadata": {
        "colab": {
          "base_uri": "https://localhost:8080/"
        },
        "id": "rHSn018ETp4x",
        "outputId": "ae388eed-6d3d-4fe7-82fb-22706b43067f"
      },
      "source": [
        "#create genesis block \n",
        "genesisId = \"first block\"\n",
        "genesisBlock = MainBlockChain(1, hashlib.sha256(genesisId.encode()).hexdigest(), \"medical\")\n",
        "\n",
        "#assign previousblock hash as genesis for inital value\n",
        "previousBlockHash = genesisBlock.blockHash\n",
        "journalFileDirectory.append(journalGenesisBlock)\n",
        "journalFileDirectory"
      ],
      "execution_count": 26,
      "outputs": [
        {
          "output_type": "execute_result",
          "data": {
            "text/plain": [
              "[{'authorDetails': {'authorDesignation': 'student',\n",
              "   'authorId': 'Hema',\n",
              "   'authorInstitution': 'stjoseps',\n",
              "   'authorInstitutionalEmail': 'hema@stjphs',\n",
              "   'authorName': 'hema',\n",
              "   'authorPersonalEmail': 'hemuhema',\n",
              "   'authorQualification': 'b tech',\n",
              "   'isbnNumber': '123ef',\n",
              "   'majorPublications': ['IEEE, Sringer', 'web of scinece'],\n",
              "   'numberOfPublications': '3',\n",
              "   'orchidId': 'orch123'},\n",
              "  'journalDomain': 'medical',\n",
              "  'journalId': '1234',\n",
              "  'journalName': 'IEEE',\n",
              "  'journalScope': 'medicine',\n",
              "  'journalTitle': 'medical img segmentation',\n",
              "  'paperDetails': {'abstractSummary': 'medical image segmentation',\n",
              "   'acceptanceRate': 'medium',\n",
              "   'editorialStandard': 'high',\n",
              "   'fontSize': '12',\n",
              "   'fontStyle': 'times new roman',\n",
              "   'maximumPageCount': '7',\n",
              "   'minimumPageCount': '3',\n",
              "   'pageLayout': 'sided',\n",
              "   'pageMargins': '2.5',\n",
              "   'paperCostOfSubmission': '10000',\n",
              "   'paperId': 'PAP01',\n",
              "   'paperStatus': 'submitted',\n",
              "   'paperUnderConference': 'yes',\n",
              "   'submittedOn': '24-09-2020'},\n",
              "  'publicationFrequency': 'Twice a month',\n",
              "  'publicationProceedings': 'abc, xyz, pqr',\n",
              "  'publicationStatus': 'review',\n",
              "  'publishedBy': 'AB'},\n",
              " {'authorDetails': {'authorDesignation': 'Lecturer',\n",
              "   'authorId': 'AUTH01',\n",
              "   'authorInstitution': 'srm institute',\n",
              "   'authorInstitutionalEmail': 'hema@srm',\n",
              "   'authorName': 'PRIYA',\n",
              "   'authorPersonalEmail': 'hemuhemaa',\n",
              "   'authorQualification': 'b tech m tech',\n",
              "   'isbnNumber': '123efg',\n",
              "   'majorPublications': ['IEEE', 'Web of science'],\n",
              "   'numberOfPublications': '4',\n",
              "   'orchidId': 'ORCH001'},\n",
              "  'journalDomain': 'yolo',\n",
              "  'journalId': '9876',\n",
              "  'journalName': 'Elsever',\n",
              "  'journalScope': 'tech',\n",
              "  'journalTitle': 'object detection',\n",
              "  'paperDetails': {'abstractSummary': 'intro to nanotechnology in broef',\n",
              "   'acceptanceRate': 'low',\n",
              "   'editorialStandard': 'high',\n",
              "   'fontSize': '12',\n",
              "   'fontStyle': 'verdana',\n",
              "   'maximumPageCount': '15',\n",
              "   'minimumPageCount': '7',\n",
              "   'pageLayout': 'single',\n",
              "   'pageMargins': '1.5',\n",
              "   'paperCostOfSubmission': '20,000',\n",
              "   'paperId': 'PAP02',\n",
              "   'paperStatus': 'review',\n",
              "   'paperUnderConference': 'no',\n",
              "   'submittedOn': '23-07-2021'},\n",
              "  'publicationFrequency': '3',\n",
              "  'publicationProceedings': 'abc, lmn, pqr',\n",
              "  'publicationStatus': 'review',\n",
              "  'publishedBy': 'XYZ institute'},\n",
              " {'authorDetails': {'authorDesignation': 'Professor',\n",
              "   'authorId': 'AUTH01',\n",
              "   'authorInstitution': \"St joseph's college of engineering\",\n",
              "   'authorInstitutionalEmail': 'hema@stjosephs.in',\n",
              "   'authorName': 'hema',\n",
              "   'authorPersonalEmail': 'hemuhema2000@gmail.com',\n",
              "   'authorQualification': 'PhD in science',\n",
              "   'isbnNumber': '23415',\n",
              "   'majorPublications': ['ABC', 'XYZ', 'PQR'],\n",
              "   'numberOfPublications': '12',\n",
              "   'orchidId': 'Hema151220'},\n",
              "  'journalDomain': 'Nanotech',\n",
              "  'journalId': 'Tech241',\n",
              "  'journalName': 'Elseiver',\n",
              "  'journalScope': 'Science and technology',\n",
              "  'journalTitle': 'Brain image segmentation',\n",
              "  'paperDetails': {'abstractSummary': ' ',\n",
              "   'acceptanceRate': '80%',\n",
              "   'editorialStandard': 'high',\n",
              "   'fontSize': '12',\n",
              "   'fontStyle': 'TimesNewRoman',\n",
              "   'maximumPageCount': '15',\n",
              "   'minimumPageCount': '8',\n",
              "   'pageLayout': 'sided',\n",
              "   'pageMargins': '2.5',\n",
              "   'paperCostOfSubmission': '5000',\n",
              "   'paperId': 'PAP01',\n",
              "   'paperStatus': 'review',\n",
              "   'paperUnderConference': 'yes',\n",
              "   'submittedOn': '25-09-2021'},\n",
              "  'publicationFrequency': 'Bi-annual',\n",
              "  'publicationProceedings': 'AnnexureOne',\n",
              "  'publicationStatus': 'Available',\n",
              "  'publishedBy': 'Academy of honours'}]"
            ]
          },
          "metadata": {},
          "execution_count": 26
        }
      ]
    },
    {
      "cell_type": "markdown",
      "metadata": {
        "id": "hfsVx25aTSzl"
      },
      "source": [
        "obtain user input for journal data"
      ]
    },
    {
      "cell_type": "code",
      "metadata": {
        "colab": {
          "base_uri": "https://localhost:8080/"
        },
        "id": "3qVpM7MyTSRM",
        "outputId": "45c35d9f-b94f-464b-cd96-3f6363c97d72"
      },
      "source": [
        "#Enter the number of entries and add the journal details accordingly\n",
        "print(\"****** WELCOME TO DECENTRALISED JOURNAL REVIEW SYSTEM *********\")\n",
        "print(\"Enter the number of journal entries\")\n",
        "journalEntries = int(input())\n",
        "for num in range(journalEntries):\n",
        "  getInput()"
      ],
      "execution_count": 22,
      "outputs": [
        {
          "name": "stdout",
          "output_type": "stream",
          "text": [
            "****** WELCOME TO DECENTRALISED JOURNAL REVIEW SYSTEM *********\n",
            "Enter the number of journal entries\n",
            "2\n",
            "**********Enter the details of your journal********\n",
            "Enter the Journal Id : 1234\n",
            "Enter the name of journal : IEEE\n",
            "Enter the domain of journal : medical\n",
            "Enter the Title of journal : medical img segmentation\n",
            "Enter the scope of journal : medicine\n",
            "Enter the publisher : AB\n",
            "Enter the frequency of publication : Twice a month\n",
            "Enter the proceedings listabc, xyz, pqr\n",
            "Enter the status of publicationreview\n",
            "**** Enter the details of author ****\n",
            "Enter the ID of Author : Hema\n",
            "Enter the name of the author : hema\n",
            "Enter the designation : student\n",
            "Institutional Email : hema@stjphs\n",
            "Personal email id  : hemuhema\n",
            "Enter the instituition of author : stjoseps\n",
            "Enter the qualification : b tech\n",
            "Enter the ISBN Number : 123ef\n",
            "Enter the Orchid ID : orch123\n",
            "Total number of publications : 3\n",
            "Enter the number of major publications : 2\n",
            "Enter the name of publications : \n",
            "IEEE, Sringer\n",
            "web of scinece\n",
            "Enter the Details of paper : \n",
            "Enter the ID of the paper : PAP01\n",
            "Enter the minimum page count : 3\n",
            "Enter the maximum page count : 7\n",
            "Layout of the page : sided\n",
            "Enter the margins for the paper : 2.5\n",
            "Enter the size of the font : 12\n",
            "Enter the font style : times new roman\n",
            "Enter the summary of abstract : medical image segmentation\n",
            "Enter the date of submission  : 24-09-2020\n",
            "Enter the status of paper : submitted\n",
            "Enter the standard of editorial board : high\n",
            "Enter the rate of acceptance : medium\n",
            "Enter the cost : 10000\n",
            "Is the paper under conferenceyes\n",
            "**********Enter the details of your journal********\n",
            "Enter the Journal Id : 9876\n",
            "Enter the name of journal : Elsever\n",
            "Enter the domain of journal : yolo\n",
            "Enter the Title of journal : object detection\n",
            "Enter the scope of journal : tech\n",
            "Enter the publisher : XYZ institute\n",
            "Enter the frequency of publication : 3\n",
            "Enter the proceedings listabc, lmn, pqr\n",
            "Enter the status of publicationreview\n",
            "**** Enter the details of author ****\n",
            "Enter the ID of Author : AUTH01\n",
            "Enter the name of the author : PRIYA\n",
            "Enter the designation : Lecturer\n",
            "Institutional Email : hema@srm\n",
            "Personal email id  : hemuhemaa\n",
            "Enter the instituition of author : srm institute\n",
            "Enter the qualification : b tech m tech\n",
            "Enter the ISBN Number : 123efg\n",
            "Enter the Orchid ID : ORCH001\n",
            "Total number of publications : 4\n",
            "Enter the number of major publications : 2\n",
            "Enter the name of publications : \n",
            "IEEE\n",
            "Web of science\n",
            "Enter the Details of paper : \n",
            "Enter the ID of the paper : PAP02\n",
            "Enter the minimum page count : 7\n",
            "Enter the maximum page count : 15\n",
            "Layout of the page : single\n",
            "Enter the margins for the paper : 1.5\n",
            "Enter the size of the font : 12\n",
            "Enter the font style : verdana\n",
            "Enter the summary of abstract : intro to nanotechnology in broef\n",
            "Enter the date of submission  : 23-07-2021\n",
            "Enter the status of paper : review\n",
            "Enter the standard of editorial board : high\n",
            "Enter the rate of acceptance : low\n",
            "Enter the cost : 20,000\n",
            "Is the paper under conferenceno\n"
          ]
        }
      ]
    },
    {
      "cell_type": "code",
      "metadata": {
        "colab": {
          "base_uri": "https://localhost:8080/"
        },
        "id": "5PEY07BpTE1F",
        "outputId": "4d91c4d5-981b-48f4-ff63-b8916d680039"
      },
      "source": [
        "journalFileDirectory"
      ],
      "execution_count": 23,
      "outputs": [
        {
          "output_type": "execute_result",
          "data": {
            "text/plain": [
              "[{'authorDetails': {'authorDesignation': 'student',\n",
              "   'authorId': 'Hema',\n",
              "   'authorInstitution': 'stjoseps',\n",
              "   'authorInstitutionalEmail': 'hema@stjphs',\n",
              "   'authorName': 'hema',\n",
              "   'authorPersonalEmail': 'hemuhema',\n",
              "   'authorQualification': 'b tech',\n",
              "   'isbnNumber': '123ef',\n",
              "   'majorPublications': ['IEEE, Sringer', 'web of scinece'],\n",
              "   'numberOfPublications': '3',\n",
              "   'orchidId': 'orch123'},\n",
              "  'journalDomain': 'medical',\n",
              "  'journalId': '1234',\n",
              "  'journalName': 'IEEE',\n",
              "  'journalScope': 'medicine',\n",
              "  'journalTitle': 'medical img segmentation',\n",
              "  'paperDetails': {'abstractSummary': 'medical image segmentation',\n",
              "   'acceptanceRate': 'medium',\n",
              "   'editorialStandard': 'high',\n",
              "   'fontSize': '12',\n",
              "   'fontStyle': 'times new roman',\n",
              "   'maximumPageCount': '7',\n",
              "   'minimumPageCount': '3',\n",
              "   'pageLayout': 'sided',\n",
              "   'pageMargins': '2.5',\n",
              "   'paperCostOfSubmission': '10000',\n",
              "   'paperId': 'PAP01',\n",
              "   'paperStatus': 'submitted',\n",
              "   'paperUnderConference': 'yes',\n",
              "   'submittedOn': '24-09-2020'},\n",
              "  'publicationFrequency': 'Twice a month',\n",
              "  'publicationProceedings': 'abc, xyz, pqr',\n",
              "  'publicationStatus': 'review',\n",
              "  'publishedBy': 'AB'},\n",
              " {'authorDetails': {'authorDesignation': 'Lecturer',\n",
              "   'authorId': 'AUTH01',\n",
              "   'authorInstitution': 'srm institute',\n",
              "   'authorInstitutionalEmail': 'hema@srm',\n",
              "   'authorName': 'PRIYA',\n",
              "   'authorPersonalEmail': 'hemuhemaa',\n",
              "   'authorQualification': 'b tech m tech',\n",
              "   'isbnNumber': '123efg',\n",
              "   'majorPublications': ['IEEE', 'Web of science'],\n",
              "   'numberOfPublications': '4',\n",
              "   'orchidId': 'ORCH001'},\n",
              "  'journalDomain': 'yolo',\n",
              "  'journalId': '9876',\n",
              "  'journalName': 'Elsever',\n",
              "  'journalScope': 'tech',\n",
              "  'journalTitle': 'object detection',\n",
              "  'paperDetails': {'abstractSummary': 'intro to nanotechnology in broef',\n",
              "   'acceptanceRate': 'low',\n",
              "   'editorialStandard': 'high',\n",
              "   'fontSize': '12',\n",
              "   'fontStyle': 'verdana',\n",
              "   'maximumPageCount': '15',\n",
              "   'minimumPageCount': '7',\n",
              "   'pageLayout': 'single',\n",
              "   'pageMargins': '1.5',\n",
              "   'paperCostOfSubmission': '20,000',\n",
              "   'paperId': 'PAP02',\n",
              "   'paperStatus': 'review',\n",
              "   'paperUnderConference': 'no',\n",
              "   'submittedOn': '23-07-2021'},\n",
              "  'publicationFrequency': '3',\n",
              "  'publicationProceedings': 'abc, lmn, pqr',\n",
              "  'publicationStatus': 'review',\n",
              "  'publishedBy': 'XYZ institute'}]"
            ]
          },
          "metadata": {},
          "execution_count": 23
        }
      ]
    },
    {
      "cell_type": "markdown",
      "metadata": {
        "id": "GF2jOPVMdILB"
      },
      "source": [
        "**Create a class for main chain**"
      ]
    },
    {
      "cell_type": "code",
      "metadata": {
        "id": "LE-oE7doOZIf"
      },
      "source": [
        "import hashlib\n",
        "from time import gmtime, strftime\n",
        "class MainBlockChain:\n",
        "\n",
        "  def __init__(self, uniqueId, prevBlockHash, journalDomain):\n",
        "    self.uniqueId = uniqueId\n",
        "    self.firstTrans = strftime(\"%Y-%m-%d %H:%M:%S\", gmtime())\n",
        "    self.prevBlockHash = prevBlockHash\n",
        "    self.journalDomain = journalDomain\n",
        "    self.blockHash = hashlib.sha256(self.prevBlockHash.encode()).hexdigest()"
      ],
      "execution_count": 24,
      "outputs": []
    },
    {
      "cell_type": "code",
      "metadata": {
        "id": "yl-DdgM8SgMj"
      },
      "source": [
        "#Creation of Block to store details related to journals\n",
        "class JournalBlock:\n",
        "\n",
        "  def __init__(self, journalId, prevBlockHash,journalData):\n",
        "    self.journalId = journalId\n",
        "    self.prevBlockHash = prevBlockHash\n",
        "    self.journalData = journalData\n",
        "    self.blockHash = hashlib.sha256(self.prevBlockHash.encode()).hexdigest()\n",
        "    self.time = strftime(\"%Y-%m-%d %H:%M:%S\", gmtime())"
      ],
      "execution_count": 25,
      "outputs": []
    },
    {
      "cell_type": "code",
      "metadata": {
        "colab": {
          "base_uri": "https://localhost:8080/",
          "height": 35
        },
        "id": "zZnbpRz4aF6z",
        "outputId": "0e90dd54-ffb3-4fdf-b74b-32e0c4bd4271"
      },
      "source": [
        "previousBlockHash #(ie) genesis block for now"
      ],
      "execution_count": 27,
      "outputs": [
        {
          "output_type": "execute_result",
          "data": {
            "application/vnd.google.colaboratory.intrinsic+json": {
              "type": "string"
            },
            "text/plain": [
              "'1f0bd7335cdd2b3cbf89db88eea59b4a53e95295edfa623ed7cf3f274c6ecabb'"
            ]
          },
          "metadata": {},
          "execution_count": 27
        }
      ]
    },
    {
      "cell_type": "code",
      "metadata": {
        "colab": {
          "base_uri": "https://localhost:8080/"
        },
        "id": "8136pWyISE2H",
        "outputId": "3e4c528e-1a89-47ba-d041-efc718fd1cb9"
      },
      "source": [
        "#create index files (main journal directory)\n",
        "journalIndex = []\n",
        "print(\"*******Journals in Directory ********\")\n",
        "for journal in journalFileDirectory:\n",
        "  print(journal)"
      ],
      "execution_count": 38,
      "outputs": [
        {
          "output_type": "stream",
          "name": "stdout",
          "text": [
            "*******Journals in Directory ********\n",
            "{'journalId': '1234', 'journalName': 'IEEE', 'journalDomain': 'medical', 'journalTitle': 'medical img segmentation', 'journalScope': 'medicine', 'publishedBy': 'AB', 'publicationFrequency': 'Twice a month', 'publicationProceedings': 'abc, xyz, pqr', 'publicationStatus': 'review', 'authorDetails': {'authorId': 'Hema', 'authorName': 'hema', 'authorDesignation': 'student', 'authorInstitutionalEmail': 'hema@stjphs', 'authorPersonalEmail': 'hemuhema', 'authorInstitution': 'stjoseps', 'authorQualification': 'b tech', 'isbnNumber': '123ef', 'orchidId': 'orch123', 'numberOfPublications': '3', 'majorPublications': ['IEEE, Sringer', 'web of scinece']}, 'paperDetails': {'paperId': 'PAP01', 'minimumPageCount': '3', 'maximumPageCount': '7', 'pageLayout': 'sided', 'pageMargins': '2.5', 'fontSize': '12', 'fontStyle': 'times new roman', 'abstractSummary': 'medical image segmentation', 'submittedOn': '24-09-2020', 'paperStatus': 'submitted', 'editorialStandard': 'high', 'acceptanceRate': 'medium', 'paperCostOfSubmission': '10000', 'paperUnderConference': 'yes'}}\n",
            "{'journalId': '9876', 'journalName': 'Elsever', 'journalDomain': 'yolo', 'journalTitle': 'object detection', 'journalScope': 'tech', 'publishedBy': 'XYZ institute', 'publicationFrequency': '3', 'publicationProceedings': 'abc, lmn, pqr', 'publicationStatus': 'review', 'authorDetails': {'authorId': 'AUTH01', 'authorName': 'PRIYA', 'authorDesignation': 'Lecturer', 'authorInstitutionalEmail': 'hema@srm', 'authorPersonalEmail': 'hemuhemaa', 'authorInstitution': 'srm institute', 'authorQualification': 'b tech m tech', 'isbnNumber': '123efg', 'orchidId': 'ORCH001', 'numberOfPublications': '4', 'majorPublications': ['IEEE', 'Web of science']}, 'paperDetails': {'paperId': 'PAP02', 'minimumPageCount': '7', 'maximumPageCount': '15', 'pageLayout': 'single', 'pageMargins': '1.5', 'fontSize': '12', 'fontStyle': 'verdana', 'abstractSummary': 'intro to nanotechnology in broef', 'submittedOn': '23-07-2021', 'paperStatus': 'review', 'editorialStandard': 'high', 'acceptanceRate': 'low', 'paperCostOfSubmission': '20,000', 'paperUnderConference': 'no'}}\n",
            "{'journalId': 'Tech241', 'journalName': 'Elseiver', 'journalDomain': 'Nanotech', 'journalTitle': 'Brain image segmentation', 'journalScope': 'Science and technology', 'publishedBy': 'Academy of honours', 'publicationFrequency': 'Bi-annual', 'publicationStatus': 'Available', 'publicationProceedings': 'AnnexureOne', 'paperDetails': {'paperId': 'PAP01', 'minimumPageCount': '8', 'maximumPageCount': '15', 'pageLayout': 'sided', 'pageMargins': '2.5', 'fontSize': '12', 'fontStyle': 'TimesNewRoman', 'abstractSummary': ' ', 'submittedOn': '25-09-2021', 'paperStatus': 'review', 'editorialStandard': 'high', 'acceptanceRate': '80%', 'paperCostOfSubmission': '5000', 'paperUnderConference': 'yes'}, 'authorDetails': {'authorId': 'AUTH01', 'authorName': 'hema', 'authorDesignation': 'Professor', 'authorInstitutionalEmail': 'hema@stjosephs.in', 'authorPersonalEmail': 'hemuhema2000@gmail.com', 'authorInstitution': \"St joseph's college of engineering\", 'authorQualification': 'PhD in science', 'isbnNumber': '23415', 'orchidId': 'Hema151220', 'numberOfPublications': '12', 'majorPublications': ['ABC', 'XYZ', 'PQR']}}\n"
          ]
        }
      ]
    },
    {
      "cell_type": "code",
      "metadata": {
        "id": "tW3yelVmNWSw"
      },
      "source": [
        "journalBlock = []\n",
        "for journal in journalFileDirectory:\n",
        "  journalString = pickle.dumps(journal)\n",
        "  newJournalBlock = JournalBlock(journal['journalId'], previousBlockHash, journalString)\n",
        "  previousBlockHash = newJournalBlock.blockHash\n",
        "  journalIndex.append([newJournalBlock.blockHash, newJournalBlock.time])"
      ],
      "execution_count": 39,
      "outputs": []
    },
    {
      "cell_type": "code",
      "metadata": {
        "colab": {
          "base_uri": "https://localhost:8080/"
        },
        "id": "DIUtYlb0bmRI",
        "outputId": "52bb93e7-ac07-4522-8865-c06d14211b9a"
      },
      "source": [
        "#journalIndex\n",
        "for index in journalIndex:\n",
        "  print(\"Hash = > \", index[0], \" TimeStamp=> \", index[1])"
      ],
      "execution_count": 45,
      "outputs": [
        {
          "output_type": "stream",
          "name": "stdout",
          "text": [
            "Hash = >  383528dbb270749bfe4081fc50922d8a3ba2d0068098242d8e5fb3ed0d200c22  TimeStamp=>  2021-10-30 18:20:18\n",
            "Hash = >  c2494371f97c054806bfa2dbe0d1bf9d77e6f8be61323e4cfa548c475617a61c  TimeStamp=>  2021-10-30 18:20:18\n",
            "Hash = >  27f37db1fb3600702da2e7777815a7a86bfb1dac4bf7276404a6c0c11c79bfed  TimeStamp=>  2021-10-30 18:20:18\n"
          ]
        }
      ]
    },
    {
      "cell_type": "code",
      "metadata": {
        "id": "yDmngijfRZQf"
      },
      "source": [
        ""
      ],
      "execution_count": null,
      "outputs": []
    }
  ]
}