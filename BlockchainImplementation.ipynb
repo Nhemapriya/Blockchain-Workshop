{
  "nbformat": 4,
  "nbformat_minor": 0,
  "metadata": {
    "colab": {
      "name": "BlockchainImplementation.ipynb",
      "provenance": [],
      "collapsed_sections": []
    },
    "kernelspec": {
      "name": "python3",
      "display_name": "Python 3"
    },
    "language_info": {
      "name": "python"
    }
  },
  "cells": [
    {
      "cell_type": "markdown",
      "metadata": {
        "id": "DopfsozaEzi4"
      },
      "source": [
        "# Basic Blockchain Implementation"
      ]
    },
    {
      "cell_type": "markdown",
      "metadata": {
        "id": "evnsjx2IFRcZ"
      },
      "source": [
        "**UseCase - Food delivery rating system**"
      ]
    },
    {
      "cell_type": "code",
      "metadata": {
        "id": "susjk_G3Ey6u"
      },
      "source": [
        "import hashlib\n",
        "from time import gmtime, strftime\n",
        "#creation of main blockchain\n",
        "class neuralMainBlock:\n",
        "\n",
        "  def __init__(self, uniqueId, prevBlockHash, lastUpdated):\n",
        "    self.uniqueId = uniqueId\n",
        "    self.firstTrans = strftime(\"%Y-%m-%d %H:%M:%S\", gmtime())\n",
        "    self.prevBlockHash = prevBlockHash\n",
        "    self.lastUpdated = lastUpdated\n",
        "    self.blockHash = hashlib.sha256(self.uniqueId.encode()).hexdigest()"
      ],
      "execution_count": null,
      "outputs": []
    },
    {
      "cell_type": "code",
      "metadata": {
        "id": "ZlqoaCWxEPAM"
      },
      "source": [
        "#Creation of userBlock - containing essential User details\n",
        "class UserBlock:\n",
        "\n",
        "  def __init__(self, userId, rating, prevBlockHash,userData):\n",
        "    self.userId = userId\n",
        "    self.rating = rating\n",
        "    self.prevBlockHash = prevBlockHash\n",
        "    self.userData = userData+prevBlockHash\n",
        "    self.blockHash = hashlib.sha256(self.userData.encode()).hexdigest()\n",
        "    self.time = strftime(\"%Y-%m-%d %H:%M:%S\", gmtime())"
      ],
      "execution_count": null,
      "outputs": []
    },
    {
      "cell_type": "code",
      "metadata": {
        "colab": {
          "base_uri": "https://localhost:8080/"
        },
        "id": "v0HKxjM0FdcN",
        "outputId": "75e2a9a5-57a6-449f-c00b-df3d09e0e6e6"
      },
      "source": [
        "#Three essential parameters - say UserId, Status of delivery, Delivery of data\n",
        "userId = input(\"enter unique id\")\n",
        "deliveryStatus = input(\"enter delivery status - success or failure\")\n",
        "deliveryData = input(\"enter the time, location of delivery\")\n",
        "\n",
        "#check for delivery of data and assign rating\n",
        "if deliveryStatus ==\"success\":\n",
        "  user = UserBlock(userId, 5, hashlib.sha256(userId.encode()).hexdigest(), deliveryData)\n",
        "else:\n",
        "  user = UserBlock(userId, 3, hashlib.sha256(userId.encode()).hexdigest(), deliveryData)\n",
        "\n",
        "\n",
        "main = neuralMainBlock(user.userId, user.blockHash, user.time)\n",
        "#Compare the userBlock's previous Hash and main block's current hash\n",
        "#To ensure the chain\n",
        "print(main.prevBlockHash)\n",
        "print(user.blockHash)"
      ],
      "execution_count": null,
      "outputs": [
        {
          "output_type": "stream",
          "name": "stdout",
          "text": [
            "enter unique id3\n",
            "enter delivery status - success or failuresuccess\n",
            "enter the time, location of deliverychennai 23\n",
            "acc0209f7d6a3bf242cceeb496297f8c2d6fb26249c7d542a7ee0b95a2e5aab0\n",
            "acc0209f7d6a3bf242cceeb496297f8c2d6fb26249c7d542a7ee0b95a2e5aab0\n"
          ]
        }
      ]
    },
    {
      "cell_type": "markdown",
      "metadata": {
        "id": "BHR7gi-tG6pi"
      },
      "source": [
        "# Blockchain implementation for Criminal case record management\n",
        "\n",
        "1. create Multiple user records \n",
        "\n",
        "2. Create a case File Directory with all essential details of evry criminal case\n",
        "\n",
        "3. Create blocks for every user data and add it to the blockchain\n",
        "\n",
        "4. Create an Index file with the blockHash and the time of creation"
      ]
    },
    {
      "cell_type": "markdown",
      "metadata": {
        "id": "w8FiFCmkG6mh"
      },
      "source": [
        "**Basic Implementation**"
      ]
    },
    {
      "cell_type": "code",
      "metadata": {
        "id": "LN7Lms3iFdYN"
      },
      "source": [
        "#BLOCKCHAIN IMPLEMENTATION FOR CRIMINAL CASE RECORD MANAGEMENT\n",
        "import hashlib\n",
        "#create a basic block\n",
        "class neuralCoinBlockCreation:\n",
        "  \n",
        "  def __init__(self, prevBlockHash, transList):\n",
        "    self.prevBlockHash = prevBlockHash\n",
        "    #obtain the data of the block\n",
        "    self.blockData = transList\n",
        "    self.blockHash = hashlib.sha256(self.blockData.encode()).hexdigest"
      ],
      "execution_count": null,
      "outputs": []
    },
    {
      "cell_type": "code",
      "metadata": {
        "id": "JAQuiwD9FdWP"
      },
      "source": [
        "t1 = \"Criminal 1 ABC - murder suspect\"\n",
        "t2 = \"Criminal 2 XYZ - Theft suspect\"\n",
        "t3 = \"Criminal 3 PQR - Chain snatchers\"\n",
        "t4 = \"Criminal 4 EFG - Theft\""
      ],
      "execution_count": null,
      "outputs": []
    },
    {
      "cell_type": "code",
      "metadata": {
        "id": "hWw88vDRH1F6"
      },
      "source": [
        "initialBlock = neuralCoinBlockCreation(\"password to be encrypted\", t1)\n",
        "secondBlock = neuralCoinBlockCreation(initialBlock.blockHash, t2)\n",
        "thirdBlock = neuralCoinBlockCreation(secondBlock.blockHash, t3)\n",
        "fourthBlock = neuralCoinBlockCreation(thirdBlock, t4)"
      ],
      "execution_count": null,
      "outputs": []
    },
    {
      "cell_type": "markdown",
      "metadata": {
        "id": "2aycCiAwH-Vb"
      },
      "source": [
        "**CASE FILE - DATASET CREATION**"
      ]
    },
    {
      "cell_type": "code",
      "metadata": {
        "id": "i8Lbdl6EH09D"
      },
      "source": [
        "#Create a base case file (as record database)\n",
        "caseFileDirectory = []\n",
        "\n",
        "#creation of Genesis Block\n",
        "caseGenesisBlock = {\n",
        "    \"caseId\": 1,\n",
        "    \"caseName\" : \"Murder\",\n",
        "    \"caseStartDate\" : \"28-09-2021\",\n",
        "    \"caseStatus\": \"In-progress\",\n",
        "    \"caseType\": \"Murder\",\n",
        "    \"caseFiledBy\" : \"Hema\",\n",
        "    \"caseFiles\" : \"FIR, medical proof, blood samples, eye-witness proof\",\n",
        "    \"caseRunBy\" : \"Lawyer ABC\",\n",
        "    \"caseFiledLocation\": \"chennai\",\n",
        "    \"caseFiledAgainst\": \"priya\",\n",
        "    \"caseSuspects\": \"ABC, XYZ\",\n",
        "    \"caseVictimSuspect\": \"PQR\",\n",
        "    \"caseWitness\" : \"LMN\",\n",
        "    \"sectionDetails\": {\n",
        "        \"sectionId\": \"2\",\n",
        "        \"sectionName\" : \"IPC\",\n",
        "        \"sectionNumber\": \"144\",\n",
        "        \"sectionReference\": \"252\"\n",
        "    }\n",
        "}\n",
        "\n",
        "#Add the genesis block to directory\n",
        "caseFileDirectory.append(caseGenesisBlock)\n",
        "\n",
        "#details about case and related information\n",
        "def getCaseInformation(id):\n",
        "  print(\"*********** Enter the required case details ***********\")\n",
        "  print()\n",
        "  caseDetails = {}\n",
        "  caseDetails[\"caseId\"] = id\n",
        "  caseDetails[\"caseName\"] = input(\"Enter the case name - \")\n",
        "  caseDetails[\"caseStartDate\"] = input(\"Enter the start date of case - \")\n",
        "  caseDetails[\"caseStatus\"] = input(\"Enter the progress of the case - \")\n",
        "  caseDetails[\"caseType\"] = input(\"Enter the type of the case - \")\n",
        "  caseDetails[\"caseFiledBy\"] = input(\"Who filed the case - \")\n",
        "  caseDetails[\"caseFiles\"] = input(\"Enter the details of case files - \")\n",
        "  caseDetails[\"caseRunBy\"] = input(\"Who runs the case - \")\n",
        "  caseDetails[\"caseFiledLocation\"] = input(\"Enter the location of the case - \")\n",
        "  caseDetails[\"caseFiledAgainst\"] = input(\"Enter filed against ? - \")\n",
        "  caseDetails[\"caseSuspects\"] = input(\"Enter the suspected people - \")\n",
        "  caseDetails[\"caseVictimSuspect\"] = input(\"suspected individuals for victim - \")\n",
        "  caseDetails[\"caseWitness\"] = input(\"witness details - \")\n",
        "  sectionDetails={}\n",
        "  sectionDetails[\"sectionId\"] = input(\"enter the section id - \")\n",
        "  sectionDetails[\"sectionRule\"] = input(\"enter the rule for the section - \")\n",
        "  sectionDetails[\"sectionNumber\"] = input(\"enter the number for the section - \")\n",
        "  sectionDetails[\"sectionReference\"] = input(\"enter reference number - \") \n",
        "  caseDetails[\"sectionDetails\"]=sectionDetails\n",
        "  caseFileDirectory.append(caseDetails)\n",
        "  "
      ],
      "execution_count": null,
      "outputs": []
    },
    {
      "cell_type": "code",
      "metadata": {
        "id": "XM_8bzXjIDP2",
        "colab": {
          "base_uri": "https://localhost:8080/"
        },
        "outputId": "43671c74-36c9-4029-87b5-1158b4526b13"
      },
      "source": [
        "caseFileDirectory"
      ],
      "execution_count": null,
      "outputs": [
        {
          "output_type": "execute_result",
          "data": {
            "text/plain": [
              "[{'caseFiledAgainst': 'priya',\n",
              "  'caseFiledBy': 'Hema',\n",
              "  'caseFiledLocation': 'chennai',\n",
              "  'caseFiles': 'FIR, medical proof, blood samples, eye-witness proof',\n",
              "  'caseId': 1,\n",
              "  'caseName': 'Murder',\n",
              "  'caseRunBy': 'Lawyer ABC',\n",
              "  'caseStartDate': '28-09-2021',\n",
              "  'caseStatus': 'In-progress',\n",
              "  'caseSuspects': 'ABC, XYZ',\n",
              "  'caseType': 'Murder',\n",
              "  'caseVictimSuspect': 'PQR',\n",
              "  'caseWitness': 'LMN',\n",
              "  'sectionDetails': {'sectionId': '2',\n",
              "   'sectionName': 'IPC',\n",
              "   'sectionNumber': '144',\n",
              "   'sectionReference': '252'}}]"
            ]
          },
          "metadata": {},
          "execution_count": 5
        }
      ]
    },
    {
      "cell_type": "code",
      "metadata": {
        "id": "Uyy7JWbVIDL0",
        "colab": {
          "base_uri": "https://localhost:8080/"
        },
        "outputId": "4974299c-235c-4f35-80af-b81f91994f4d"
      },
      "source": [
        "#create case details\n",
        "numberOfCaseInputs = int(input(\"Enter the number of case details to be given : \"))\n",
        "for num in range(numberOfCaseInputs):\n",
        "  getCaseInformation(num+1)"
      ],
      "execution_count": null,
      "outputs": [
        {
          "name": "stdout",
          "output_type": "stream",
          "text": [
            "Enter the number of case details to be given : 4\n",
            "*********** Enter the required case details ***********\n",
            "\n",
            "Enter the case name - Murder\n",
            "Enter the start date of case - 24-05-2021\n",
            "Enter the progress of the case - completed\n",
            "Enter the type of the case - murder\n",
            "Who filed the case - ABC\n",
            "Enter the details of case files - FIR, Eye witness\n",
            "Who runs the case - XYZ\n",
            "Enter the location of the case - Chennai\n",
            "Enter filed against ? - PQR\n",
            "Enter the suspected people - ABC, XYZ, PQR\n",
            "suspected individuals for victim - XYZ\n",
            "witness details - IT employee\n",
            "enter the section id - 1\n",
            "enter the rule for the section - 144\n",
            "enter the number for the section - 256\n",
            "enter reference number - 1212\n",
            "*********** Enter the required case details ***********\n",
            "\n",
            "Enter the case name - Theft\n",
            "Enter the start date of case - 25-06-2021\n",
            "Enter the progress of the case - start\n",
            "Enter the type of the case - chain theft\n",
            "Who filed the case - Hema\n",
            "Enter the details of case files - Chain details, location and properties\n",
            "Who runs the case - Priya\n",
            "Enter the location of the case - chennai\n",
            "Enter filed against ? - Unknown\n",
            "Enter the suspected people - Raj, Ravi, John\n",
            "suspected individuals for victim - Jake, Hema\n",
            "witness details - Shopkeeper\n",
            "enter the section id - 2\n",
            "enter the rule for the section - Jail for 5 Years\n",
            "enter the number for the section - 231\n",
            "enter reference number - 1441\n",
            "*********** Enter the required case details ***********\n",
            "\n",
            "Enter the case name - Theft\n",
            "Enter the start date of case - 23-06-2021\n",
            "Enter the progress of the case - in-progress\n",
            "Enter the type of the case - bike theft\n",
            "Who filed the case - priya\n",
            "Enter the details of case files - hema\n",
            "Who runs the case - john\n",
            "Enter the location of the case - chennai\n",
            "Enter filed against ? - jacob\n",
            "Enter the suspected people - jacob and group\n",
            "suspected individuals for victim - ABC, XYZ, PQR\n",
            "witness details - Bike mechanic\n",
            "enter the section id - 3\n",
            "enter the rule for the section - 144\n",
            "enter the number for the section - 231\n",
            "enter reference number - 1551\n",
            "*********** Enter the required case details ***********\n",
            "\n",
            "Enter the case name - Drug\n",
            "Enter the start date of case - 12-07-2000\n",
            "Enter the progress of the case - in-progress\n",
            "Enter the type of the case - drug and child abuse\n",
            "Who filed the case - XYZ\n",
            "Enter the details of case files - Drug details , FIR\n",
            "Who runs the case - PQR\n",
            "Enter the location of the case - AP\n",
            "Enter filed against ? - ABC\n",
            "Enter the suspected people - Yesh, sumay, vinay\n",
            "suspected individuals for victim - hema\n",
            "witness details - NIL\n",
            "enter the section id - 5\n",
            "enter the rule for the section - 123\n",
            "enter the number for the section - 431\n",
            "enter reference number - 1221\n"
          ]
        }
      ]
    },
    {
      "cell_type": "markdown",
      "metadata": {
        "id": "MUS_e62V5g-a"
      },
      "source": [
        "**creation of Block chain**"
      ]
    },
    {
      "cell_type": "code",
      "metadata": {
        "id": "DVnk5nTnIDH7"
      },
      "source": [
        "import hashlib\n",
        "from time import gmtime, strftime\n",
        "class MainBlockChain:\n",
        "\n",
        "  def __init__(self, uniqueId, prevBlockHash, caseType):\n",
        "    self.uniqueId = uniqueId\n",
        "    self.firstTrans = strftime(\"%Y-%m-%d %H:%M:%S\", gmtime())\n",
        "    self.prevBlockHash = prevBlockHash\n",
        "    self.caseType = caseType\n",
        "    # self.blockData = \"-\".join(transList)+\"-\"+prevBlockHash\n",
        "    self.blockHash = hashlib.sha256(self.prevBlockHash.encode()).hexdigest()"
      ],
      "execution_count": null,
      "outputs": []
    },
    {
      "cell_type": "code",
      "metadata": {
        "id": "wsxCPxyMIDGD"
      },
      "source": [
        "#Creation of Block to store details related to murder cases\n",
        "class MurderBlock:\n",
        "\n",
        "  def __init__(self, caseId, prevBlockHash,userData):\n",
        "    self.caseId = caseId\n",
        "    self.prevBlockHash = prevBlockHash\n",
        "    self.userData = userData\n",
        "    self.blockHash = hashlib.sha256(self.prevBlockHash.encode()).hexdigest()\n",
        "    self.time = strftime(\"%Y-%m-%d %H:%M:%S\", gmtime())"
      ],
      "execution_count": null,
      "outputs": []
    },
    {
      "cell_type": "code",
      "metadata": {
        "id": "0aXRaHhfI3-N"
      },
      "source": [
        "#Creation of Block to store details related to theft cases\n",
        "class TheftBlock:\n",
        "  def __init__(self, caseId, prevBlockHash,userData):\n",
        "    self.caseId = caseId\n",
        "    self.prevBlockHash = prevBlockHash\n",
        "    self.userData = userData\n",
        "    self.blockHash = hashlib.sha256(self.prevBlockHash.encode()).hexdigest()\n",
        "    self.time = strftime(\"%Y-%m-%d %H:%M:%S\", gmtime())"
      ],
      "execution_count": null,
      "outputs": []
    },
    {
      "cell_type": "code",
      "metadata": {
        "id": "X1OX-7QixS10"
      },
      "source": [
        "#Creation of Block to store details related to Drug cases\n",
        "class DrugBlock:\n",
        "  def __init__(self, caseId, prevBlockHash,userData):\n",
        "    self.caseId = caseId\n",
        "    self.prevBlockHash = prevBlockHash\n",
        "    self.userData = userData\n",
        "    self.blockHash = hashlib.sha256(self.prevBlockHash.encode()).hexdigest()\n",
        "    self.time = strftime(\"%Y-%m-%d %H:%M:%S\", gmtime())"
      ],
      "execution_count": null,
      "outputs": []
    },
    {
      "cell_type": "code",
      "metadata": {
        "id": "WXPCpMXBxWuC"
      },
      "source": [
        "#Creation of Block to store details related to Assault cases\n",
        "class AssualtBlock:\n",
        "  def __init__(self, caseId, prevBlockHash,userData):\n",
        "    self.caseId = caseId\n",
        "    self.prevBlockHash = prevBlockHash\n",
        "    self.userData = userData\n",
        "    self.blockHash = hashlib.sha256(self.prevBlockHash.encode()).hexdigest()\n",
        "    self.time = strftime(\"%Y-%m-%d %H:%M:%S\", gmtime())"
      ],
      "execution_count": null,
      "outputs": []
    },
    {
      "cell_type": "code",
      "metadata": {
        "id": "_qDa70qMI36X",
        "colab": {
          "base_uri": "https://localhost:8080/",
          "height": 35
        },
        "outputId": "9beb9f53-9aec-4606-8e00-f58c4ff900d1"
      },
      "source": [
        "#add genesis block initailly and obtain the hash of it\n",
        "genesisId = \"first block\"\n",
        "genesisBlock = MainBlockChain(1, hashlib.sha256(genesisId.encode()).hexdigest(), \"neutral\")\n",
        "genesisBlock.blockHash"
      ],
      "execution_count": null,
      "outputs": [
        {
          "output_type": "execute_result",
          "data": {
            "application/vnd.google.colaboratory.intrinsic+json": {
              "type": "string"
            },
            "text/plain": [
              "'1f0bd7335cdd2b3cbf89db88eea59b4a53e95295edfa623ed7cf3f274c6ecabb'"
            ]
          },
          "metadata": {},
          "execution_count": 14
        }
      ]
    },
    {
      "cell_type": "code",
      "metadata": {
        "id": "2BlHXSwAJCD8",
        "colab": {
          "base_uri": "https://localhost:8080/",
          "height": 35
        },
        "outputId": "f4c67f7b-031d-4b8a-fdb0-32e8c0b15600"
      },
      "source": [
        "#The lastest pervious block - (genesis blockhash)\n",
        "latestPreviousBlockhash = genesisBlock.blockHash\n",
        "latestPreviousBlockhash"
      ],
      "execution_count": null,
      "outputs": [
        {
          "output_type": "execute_result",
          "data": {
            "application/vnd.google.colaboratory.intrinsic+json": {
              "type": "string"
            },
            "text/plain": [
              "'1f0bd7335cdd2b3cbf89db88eea59b4a53e95295edfa623ed7cf3f274c6ecabb'"
            ]
          },
          "metadata": {},
          "execution_count": 15
        }
      ]
    },
    {
      "cell_type": "code",
      "metadata": {
        "id": "1bczUMYSJB-k"
      },
      "source": [
        "import pickle\n",
        "#check with the index and type of case and create block\n",
        "#murder block index , theft block index, drugIndex, assaultIndex is created\n",
        "murderIndex = []\n",
        "theftIndex = []\n",
        "drugIndex =[]\n",
        "assaultIndex = []\n",
        "#Main case file Index\n",
        "mainList = []\n"
      ],
      "execution_count": null,
      "outputs": []
    },
    {
      "cell_type": "code",
      "metadata": {
        "id": "V4Q6ZjBFOGyT"
      },
      "source": [
        "#Loop through each of the case files, create blocks and add it to the block chain\n",
        "for case in caseFileDirectory:\n",
        "  mainIndex = {}\n",
        "  if case['caseName']==\"Murder\":\n",
        "    caseString = pickle.dumps(case)\n",
        "    newMurderBlock = MurderBlock(case[\"caseId\"],latestPreviousBlockhash,caseString)\n",
        "    latestPreviousBlockhash = newMurderBlock.blockHash\n",
        "    murderIndex.append([newMurderBlock.blockHash, newMurderBlock.time])\n",
        "    mainBlock = MainBlockChain(case[\"caseId\"],newMurderBlock.blockHash, case[\"caseName\"])\n",
        "    mainIndex[\"Murder\"] = mainBlock.blockHash\n",
        "    mainList.append(mainIndex)\n",
        "\n",
        "  elif case['caseName']==\"Theft\":\n",
        "    caseString = pickle.dumps(case)\n",
        "    newTheftBlock = TheftBlock(case[\"caseId\"],latestPreviousBlockhash,caseString)\n",
        "    latestPreviousBlockhash = newTheftBlock.blockHash\n",
        "    theftIndex.append([newTheftBlock.blockHash, newTheftBlock.time])\n",
        "    mainBlock = MainBlockChain(case[\"caseId\"], newTheftBlock.blockHash, case[\"caseName\"])\n",
        "    mainIndex[\"Theft\"] = mainBlock.blockHash\n",
        "    mainList.append(mainIndex)\n",
        "\n",
        "\n",
        "  elif case['caseName']==\"Drug\":\n",
        "    caseString = pickle.dumps(case)\n",
        "    newDrugBlock = DrugBlock(case[\"caseId\"],latestPreviousBlockhash,caseString)\n",
        "    latestPreviousBlockhash = newDrugBlock.blockHash\n",
        "    drugIndex.append([newDrugBlock.blockHash, newDrugBlock.time])\n",
        "    mainBlock = MainBlockChain(case[\"caseId\"], newDrugBlock.blockHash, case[\"caseName\"])\n",
        "    mainIndex[\"Drug\"] = mainBlock.blockHash\n",
        "    mainList.append(mainIndex)\n",
        "\n",
        "  elif case['caseName']==\"Assault\":\n",
        "    caseString = pickle.dumps(case)\n",
        "    newAssaultBlock = AssaultBlock(case[\"caseId\"],latestPreviousBlockhash,caseString)\n",
        "    latestPreviousBlockhash = newAssaultBlock.blockHash\n",
        "    assaultIndex.append([newAssaultBlock.blockHash, newAssaultBlock.time])\n",
        "    mainBlock = MainBlockChain(case[\"caseId\"], newAssaultBlock.blockHash, case[\"caseName\"])\n",
        "    mainIndex[\"Assault\"] = mainBlock.blockHash\n",
        "    mainList.append(mainIndex)\n"
      ],
      "execution_count": null,
      "outputs": []
    },
    {
      "cell_type": "code",
      "metadata": {
        "colab": {
          "base_uri": "https://localhost:8080/"
        },
        "id": "R0kdG1cMOWG4",
        "outputId": "3f671698-a1a9-4b15-cb12-93e5849ffb61"
      },
      "source": [
        "#The index corresponding to the respective crimes\n",
        "print(\"Main case files index\")\n",
        "print(mainList)\n",
        "print()\n",
        "\n",
        "print(\"Drug cases\")\n",
        "print(drugIndex)\n",
        "print()\n",
        "\n",
        "print(\"Murder cases\")\n",
        "print(murderIndex)\n",
        "print()\n",
        "\n",
        "print(\"Theft cases\")\n",
        "print(theftIndex)\n",
        "print()\n",
        "\n",
        "\n"
      ],
      "execution_count": null,
      "outputs": [
        {
          "output_type": "stream",
          "name": "stdout",
          "text": [
            "Main case files index\n",
            "[{'Murder': '89169c1b9ecde83021fd20f90ce143ae506b3a5716d6d8c177c07d4aa2a092da'}, {'Murder': 'cfec7fcf2c8495bdb3a4b9d92face783d313eff0c6bceac1de8f4d8919588d9a'}, {'Theft': 'fb4c05e28bdaab47f8fbf47a0f013892ce0372957503992c520c13b93744476b'}, {'Theft': '7871487066ec11c00f911636e76bd331d5a1ee81008447c2a8f2842da565925c'}, {'Drug': '9d18719f175b8eb2c8bb3e2b4cc44cef088b9b8dd7a7e97635fc6668d1c569fb'}]\n",
            "\n",
            "Drug cases\n",
            "[['7871487066ec11c00f911636e76bd331d5a1ee81008447c2a8f2842da565925c', '2021-10-28 14:15:59']]\n",
            "\n",
            "Murder cases\n",
            "[['5b9072471e79608f5352d3a1e2eba9fb441db8e79873ba7f947209b7fa6bf0f4', '2021-10-28 14:15:59'], ['89169c1b9ecde83021fd20f90ce143ae506b3a5716d6d8c177c07d4aa2a092da', '2021-10-28 14:15:59']]\n",
            "\n",
            "Theft cases\n",
            "[['cfec7fcf2c8495bdb3a4b9d92face783d313eff0c6bceac1de8f4d8919588d9a', '2021-10-28 14:15:59'], ['fb4c05e28bdaab47f8fbf47a0f013892ce0372957503992c520c13b93744476b', '2021-10-28 14:15:59']]\n",
            "\n"
          ]
        }
      ]
    }
  ]
}